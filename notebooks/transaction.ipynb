{
 "cells": [
  {
   "cell_type": "markdown",
   "metadata": {},
   "source": [
    "`Create an Account on Algorand`"
   ]
  },
  {
   "cell_type": "code",
   "execution_count": null,
   "metadata": {},
   "outputs": [],
   "source": [
    "# ! pip3 install py-algorand-sdk"
   ]
  },
  {
   "cell_type": "code",
   "execution_count": 23,
   "metadata": {},
   "outputs": [],
   "source": [
    "import json\n",
    "import base64\n",
    "from algosdk import account, mnemonic\n",
    "# build transaction\n",
    "from algosdk.future import transaction\n",
    "from algosdk import constants\n",
    "from algosdk.v2client import algod"
   ]
  },
  {
   "cell_type": "code",
   "execution_count": 24,
   "metadata": {},
   "outputs": [
    {
     "name": "stdout",
     "output_type": "stream",
     "text": [
      "My address: AF7IXAZGENZ7S2JHENXSAPUWJCBWOYFGUDTM5HO4DQWLQBXSICQ5DDMSFM\n",
      "My private key: tMHVglEpvCSwTYejL1hwcuFo5Ys5o1nWkgkRKYyxoooBfouDJiNz+WknI28gPpZIg2dgpqDmzp3cHCy4BvJAoQ==\n",
      "My passphrase: custom finish scrap never joke ankle horn mansion virtual gaze deal blame spike welcome slush permit sleep ensure luggage much blue property fence above sample\n"
     ]
    }
   ],
   "source": [
    "\n",
    "private_key, address = account.generate_account()\n",
    "print(\"My address: {}\".format(address))\n",
    "print(\"My private key: {}\".format(private_key))\n",
    "print(\"My passphrase: {}\".format(mnemonic.from_private_key(private_key)))"
   ]
  },
  {
   "cell_type": "code",
   "execution_count": 3,
   "metadata": {},
   "outputs": [],
   "source": [
    "# generate mnemonic adress from the dev account provided by sandbox \n",
    "mnemonic_1= \"lunch caution hunt inspire drama any ivory exhibit \\\n",
    "replace cream pattern fix raccoon acoustic paddle pledge lucky\\\n",
    " cabin goddess favorite enhance notice curtain ability kick\"\n",
    "pub_key1= mnemonic.to_public_key(mnemonic_1)\n",
    "priv_key1= mnemonic.to_private_key(mnemonic_1)"
   ]
  },
  {
   "cell_type": "code",
   "execution_count": 5,
   "metadata": {},
   "outputs": [
    {
     "name": "stdout",
     "output_type": "stream",
     "text": [
      "pub_key1: EYBE2NJCAI3IKDOFHNXO2A4SRTTEIDO7SGHWAAAEAY4ZIXLEOPABLENU2M\n",
      "priv_key1: KSzJ3lQXoSjcjk+2vYxCgSVYCNiTpiX0R8hARaVbxiYmAk01IgI2hQ3FO27tA5KM5kQN35GPYAAEBjmUXWRzwA==\n"
     ]
    }
   ],
   "source": [
    "print(f'pub_key1: {pub_key1}')\n",
    "print(f'priv_key1: {priv_key1}')"
   ]
  },
  {
   "cell_type": "code",
   "execution_count": null,
   "metadata": {},
   "outputs": [],
   "source": [
    "# In order to interact with the Algorand blockchain, you must have a funded account. \n",
    "# To quickly create a test account use the following code.​\n",
    "\n",
    "\n",
    "# def generate_algorand_keypair():\n",
    "#     private_key, address = account.generate_account()\n",
    "#     print(\"My address: {}\".format(address))\n",
    "#     print(\"My private key: {}\".format(private_key))\n",
    "#     print(\"My passphrase: {}\".format(mnemonic.from_private_key(private_key)))\n",
    "# generate_algorand_keypair()"
   ]
  },
  {
   "cell_type": "markdown",
   "metadata": {},
   "source": [
    "`Connect Your Client`\n",
    "- Client must be instantiated prior to making calls to the API endpoints. You must provide values for <algod-address> and <algod-token>. \n",
    "- The CLI tools implement the client natively. By default, the algod_token for each sandbox is set to its aaa... value and the algod_address corresponds to http://localhost:4001."
   ]
  },
  {
   "cell_type": "code",
   "execution_count": 7,
   "metadata": {},
   "outputs": [],
   "source": [
    "# Code beyond this point will be put into the first_transaction_example\n",
    "#  function to create a single script.\n",
    "\n",
    "algod_address = \"http://localhost:4001\"\n",
    "algod_token = \"aaaaaaaaaaaaaaaaaaaaaaaaaaaaaaaaaaaaaaaaaaaaaaaaaaaaaaaaaaaaaaaa\"\n",
    "algod_client = algod.AlgodClient(algod_token, algod_address)\n"
   ]
  },
  {
   "cell_type": "markdown",
   "metadata": {},
   "source": [
    "Check Your Balance"
   ]
  },
  {
   "cell_type": "code",
   "execution_count": 25,
   "metadata": {},
   "outputs": [
    {
     "name": "stdout",
     "output_type": "stream",
     "text": [
      " the balance of first account: AF7IXAZGENZ7S2JHENXSAPUWJCBWOYFGUDTM5HO4DQWLQBXSICQ5DDMSFM is 0\n"
     ]
    }
   ],
   "source": [
    "print(f\" the balance of first account: {address} is {algod_client.account_info(address)['amount']}\")"
   ]
  },
  {
   "cell_type": "code",
   "execution_count": 26,
   "metadata": {},
   "outputs": [
    {
     "data": {
      "text/plain": [
       "{'address': 'AF7IXAZGENZ7S2JHENXSAPUWJCBWOYFGUDTM5HO4DQWLQBXSICQ5DDMSFM',\n",
       " 'amount': 0,\n",
       " 'amount-without-pending-rewards': 0,\n",
       " 'apps-local-state': [],\n",
       " 'apps-total-schema': {'num-byte-slice': 0, 'num-uint': 0},\n",
       " 'assets': [],\n",
       " 'created-apps': [],\n",
       " 'created-assets': [],\n",
       " 'min-balance': 100000,\n",
       " 'pending-rewards': 0,\n",
       " 'reward-base': 0,\n",
       " 'rewards': 0,\n",
       " 'round': 2,\n",
       " 'status': 'Offline',\n",
       " 'total-apps-opted-in': 0,\n",
       " 'total-assets-opted-in': 0,\n",
       " 'total-created-apps': 0,\n",
       " 'total-created-assets': 0}"
      ]
     },
     "execution_count": 26,
     "metadata": {},
     "output_type": "execute_result"
    }
   ],
   "source": [
    "algod_client.account_info(address)"
   ]
  },
  {
   "cell_type": "code",
   "execution_count": 8,
   "metadata": {},
   "outputs": [
    {
     "data": {
      "text/plain": [
       "{'address': 'EYBE2NJCAI3IKDOFHNXO2A4SRTTEIDO7SGHWAAAEAY4ZIXLEOPABLENU2M',\n",
       " 'amount': 3999999999799000,\n",
       " 'amount-without-pending-rewards': 3999999999799000,\n",
       " 'apps-local-state': [],\n",
       " 'apps-total-schema': {'num-byte-slice': 0, 'num-uint': 0},\n",
       " 'assets': [],\n",
       " 'created-apps': [],\n",
       " 'created-assets': [],\n",
       " 'min-balance': 100000,\n",
       " 'participation': {'selection-participation-key': '8JmCRMM8OhWIB1ghC31ojjh/yNEUaddIW1ZA2phh7Hg=',\n",
       "  'state-proof-key': 'GAR5eJYPzA4SDeff9lliRnNoELWvlgj4kPoVRlmewr+EGolpPA/CeolrMW3YYsQbXht8u9NwOkZa3W0RxDPpCQ==',\n",
       "  'vote-first-valid': 0,\n",
       "  'vote-key-dilution': 10000,\n",
       "  'vote-last-valid': 30000,\n",
       "  'vote-participation-key': '6nx0tbKPDS44XdTvihMF2ORntw9BY6flGLZ8B8QpT8g='},\n",
       " 'pending-rewards': 0,\n",
       " 'reward-base': 0,\n",
       " 'rewards': 0,\n",
       " 'round': 1,\n",
       " 'status': 'Online',\n",
       " 'total-apps-opted-in': 0,\n",
       " 'total-assets-opted-in': 0,\n",
       " 'total-created-apps': 0,\n",
       " 'total-created-assets': 0}"
      ]
     },
     "execution_count": 8,
     "metadata": {},
     "output_type": "execute_result"
    }
   ],
   "source": [
    "\n",
    "algod_client.account_info(pub_key1)"
   ]
  },
  {
   "cell_type": "markdown",
   "metadata": {},
   "source": [
    "`Build First Transaction`\n",
    "* Transactions are used to interact with the Algorand network. To create a payment transaction use the following code.​"
   ]
  },
  {
   "cell_type": "code",
   "execution_count": 29,
   "metadata": {},
   "outputs": [
    {
     "name": "stdout",
     "output_type": "stream",
     "text": [
      "Successfully sent transaction with txID: XX25FMFG4IUJLSEEQ64PCRWBLOHICLY32G4PIZ3A2VEILDHTC2SA\n",
      "Transaction information: {\n",
      "    \"confirmed-round\": 5,\n",
      "    \"pool-error\": \"\",\n",
      "    \"txn\": {\n",
      "        \"sig\": \"3lfye0QOlYiREsYCqvoeEZZY2ozYJpFZZGqwVzQsxn2G5iYifKGNaPQe67vddHDQFRstG4x5gagbLI+jX7C1CQ==\",\n",
      "        \"txn\": {\n",
      "            \"amt\": 1000000,\n",
      "            \"fee\": 1000,\n",
      "            \"fv\": 4,\n",
      "            \"gen\": \"sandnet-v1\",\n",
      "            \"gh\": \"uVe4vBsCicDzS+TcK/JgGda6Dfw/rDVPdAi4jCoF7JY=\",\n",
      "            \"lv\": 1004,\n",
      "            \"note\": \"SGVsbG8gV29ybGQ=\",\n",
      "            \"rcv\": \"AF7IXAZGENZ7S2JHENXSAPUWJCBWOYFGUDTM5HO4DQWLQBXSICQ5DDMSFM\",\n",
      "            \"snd\": \"EYBE2NJCAI3IKDOFHNXO2A4SRTTEIDO7SGHWAAAEAY4ZIXLEOPABLENU2M\",\n",
      "            \"type\": \"pay\"\n",
      "        }\n",
      "    }\n",
      "}\n",
      "Decoded note: Hello World\n",
      "Starting Account balance: 3000000 microAlgos\n",
      "Amount transfered: 1000000 microAlgos\n",
      "Fee: 1000 microAlgos\n"
     ]
    }
   ],
   "source": [
    "# build transaction\n",
    "from algosdk.future import transaction\n",
    "from algosdk import constants\n",
    "\n",
    "\n",
    "params = algod_client.suggested_params()\n",
    "# comment out the next two (2) lines to use suggested fees\n",
    "params.flat_fee = True\n",
    "params.fee = constants.MIN_TXN_FEE \n",
    "receiver = address\n",
    "note = \"Hello World\".encode()\n",
    "amount = 1000000\n",
    "unsigned_txn = transaction.PaymentTxn(pub_key1, params, receiver, amount, None, note)\n",
    "# sign transaction with the \n",
    "signed_txn = unsigned_txn.sign(priv_key1)\n",
    " #submit transaction\n",
    "txid = algod_client.send_transaction(signed_txn)\n",
    "print(\"Successfully sent transaction with txID: {}\".format(txid))\n",
    "# wait for confirmation \n",
    "account_info = algod_client.account_info(address)\n",
    "try:\n",
    "    confirmed_txn = transaction.wait_for_confirmation(algod_client, txid, 4)  \n",
    "except Exception as err:\n",
    "    print(err)\n",
    "print(\"Transaction information: {}\".format(\n",
    "    json.dumps(confirmed_txn, indent=4)))\n",
    "print(\"Decoded note: {}\".format(base64.b64decode(\n",
    "    confirmed_txn[\"txn\"][\"txn\"][\"note\"]).decode()))\n",
    "print(\"Starting Account balance: {} microAlgos\".format(account_info.get('amount')) )\n",
    "print(\"Amount transfered: {} microAlgos\".format(amount) )    \n",
    "print(\"Fee: {} microAlgos\".format(params.fee) ) "
   ]
  },
  {
   "cell_type": "code",
   "execution_count": 32,
   "metadata": {},
   "outputs": [],
   "source": [
    "def first_transaction(private_key,my_address):\n",
    "    address= \"http://localhost:4001\"\n",
    "    token=\"aaaaaaaaaaaaaaaaaaaaaaaaaaaaaaaaaaaaaaaaaaaaaaaaaaaaaaaaaaaaaaaa\"\n",
    "    algo_client=algod.AlgodClient(token,address)\n",
    "    account_info = algod_client.account_info(my_address)\n",
    "    print(\"Account balance: {} microAlgos\".format(account_info.get('amount')) + \"\\n\")\n",
    "    \n",
    "    params = algod_client.suggested_params()\n",
    "    # comment out the next two (2) lines to use suggested fees\n",
    "    params.flat_fee = True\n",
    "    params.fee = constants.MIN_TXN_FEE \n",
    "    receiver = address\n",
    "    note = \"Hello World\".encode()\n",
    "    amount = 1000000\n",
    "    unsigned_txn = transaction.PaymentTxn(pub_key1, params, receiver, amount, None, note)\n",
    "    # sign transaction with the \n",
    "    signed_txn = unsigned_txn.sign(priv_key1)\n",
    "    #submit transaction\n",
    "    txid = algod_client.send_transaction(signed_txn)\n",
    "    print(\"Successfully sent transaction with txID: {}\".format(txid))\n",
    "    # wait for confirmation \n",
    "    account_info = algod_client.account_info(address)\n",
    "    try:\n",
    "        confirmed_txn = transaction.wait_for_confirmation(algod_client, txid, 4)  \n",
    "    except Exception as err:\n",
    "        print(err)\n",
    "    print(\"Transaction information: {}\".format(\n",
    "        json.dumps(confirmed_txn, indent=4)))\n",
    "    print(\"Decoded note: {}\".format(base64.b64decode(\n",
    "        confirmed_txn[\"txn\"][\"txn\"][\"note\"]).decode()))\n",
    "    print(\"Starting Account balance: {} microAlgos\".format(account_info.get('amount')) )\n",
    "    print(\"Amount transfered: {} microAlgos\".format(amount) )    \n",
    "    print(\"Fee: {} microAlgos\".format(params.fee) ) \n",
    "        \n",
    "    \n",
    "first_transaction(priv_key1,pub_key1)"
   ]
  },
  {
   "cell_type": "markdown",
   "metadata": {},
   "source": [
    "`Submit the Transaction`"
   ]
  },
  {
   "cell_type": "markdown",
   "metadata": {},
   "source": [
    "The signed transaction can now be submitted to the network. wait_for_confirmation SDK Method is called after the transaction is submitted to wait until the transaction is broadcast to the Algorand blockchain and is confirmed.​"
   ]
  }
 ],
 "metadata": {
  "kernelspec": {
   "display_name": "Python 3.8.13 ('10Academy')",
   "language": "python",
   "name": "python3"
  },
  "language_info": {
   "codemirror_mode": {
    "name": "ipython",
    "version": 3
   },
   "file_extension": ".py",
   "mimetype": "text/x-python",
   "name": "python",
   "nbconvert_exporter": "python",
   "pygments_lexer": "ipython3",
   "version": "3.8.13"
  },
  "orig_nbformat": 4,
  "vscode": {
   "interpreter": {
    "hash": "ca740c9aac4751f81a5d505930548dd2ec8dcd8707f5d2333b62b8f546ce33a7"
   }
  }
 },
 "nbformat": 4,
 "nbformat_minor": 2
}
